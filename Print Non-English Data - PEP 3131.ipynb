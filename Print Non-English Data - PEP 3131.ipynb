{
 "cells": [
  {
   "cell_type": "markdown",
   "metadata": {},
   "source": [
    "Use this notebook to play around with printing non-enlish characters. See also [this PEP 3131](https://www.python.org/dev/peps/pep-3131/)\n",
    "\n",
    "**Contribution Welcome**: Feel free to experiment with similar and add to this notebook (append from to the bottom), and raise a Pull Request (PR). Make sure it works (by running the snippet code with `shift + Enter`).\n",
    "\n",
    "**Why create this notebook in the first place**: because we can. It could be fun. Not all people in the world speaks English. Plus in the world of Machine Learning we will likely encounter situation where a problem may involve non English. This notebook aims to give us an idea what's possible (and not possible) right now. This notebook aims to inspire. (it's nothing **too** serious I hope!)"
   ]
  },
  {
   "cell_type": "markdown",
   "metadata": {},
   "source": [
    "# English Version - Print Names"
   ]
  },
  {
   "cell_type": "code",
   "execution_count": 1,
   "metadata": {
    "collapsed": true
   },
   "outputs": [],
   "source": [
    "name_list = ['small_ming', 'medium_ming', 'big_ming']"
   ]
  },
  {
   "cell_type": "code",
   "execution_count": 2,
   "metadata": {
    "scrolled": true
   },
   "outputs": [
    {
     "name": "stdout",
     "output_type": "stream",
     "text": [
      "small_ming\n",
      "medium_ming\n",
      "big_ming\n"
     ]
    }
   ],
   "source": [
    "for name in name_list:\n",
    "    print(name)"
   ]
  },
  {
   "cell_type": "markdown",
   "metadata": {},
   "source": [
    "# Chinse Version (Tradition) - 打印名單"
   ]
  },
  {
   "cell_type": "code",
   "execution_count": 3,
   "metadata": {
    "collapsed": true
   },
   "outputs": [],
   "source": [
    "名單 = ['小明', '中明', '大明']"
   ]
  },
  {
   "cell_type": "code",
   "execution_count": 4,
   "metadata": {
    "scrolled": true
   },
   "outputs": [
    {
     "name": "stdout",
     "output_type": "stream",
     "text": [
      "小明\n",
      "中明\n",
      "大明\n"
     ]
    }
   ],
   "source": [
    "for 名稱 in 名單:\n",
    "    print(名稱)"
   ]
  },
  {
   "cell_type": "markdown",
   "metadata": {},
   "source": [
    "# Emoji Version - Print Emoji"
   ]
  },
  {
   "cell_type": "markdown",
   "metadata": {},
   "source": [
    "copy and paste emoji at [http://getemoji.com/](http://getemoji.com/). Note that not all emoji works. Note: I try using an emoji for the identifiers (variables). But with no success. So I cheated for now and use the English `emoji_list` and `emoji` for now. If anyone know how to replace these English identifiers `emoji_list` and `emoji`, please do so and raise a Pull Request! (PR)"
   ]
  },
  {
   "cell_type": "code",
   "execution_count": 5,
   "metadata": {},
   "outputs": [],
   "source": [
    "emoji_list = ['😀', '😭', '👹']"
   ]
  },
  {
   "cell_type": "code",
   "execution_count": 6,
   "metadata": {
    "scrolled": true
   },
   "outputs": [
    {
     "name": "stdout",
     "output_type": "stream",
     "text": [
      "😀\n",
      "😭\n",
      "👹\n"
     ]
    }
   ],
   "source": [
    "for emoji in emoji_list:\n",
    "    print(emoji)"
   ]
  },
  {
   "cell_type": "markdown",
   "metadata": {},
   "source": [
    "# Add your non-English versions below this line"
   ]
  },
  {
   "cell_type": "code",
   "execution_count": null,
   "metadata": {
    "collapsed": true
   },
   "outputs": [],
   "source": []
  },
  {
   "cell_type": "code",
   "execution_count": null,
   "metadata": {
    "collapsed": true
   },
   "outputs": [],
   "source": []
  },
  {
   "cell_type": "code",
   "execution_count": null,
   "metadata": {
    "collapsed": true
   },
   "outputs": [],
   "source": []
  }
 ],
 "metadata": {
  "kernelspec": {
   "display_name": "Python 3",
   "language": "python",
   "name": "python3"
  },
  "language_info": {
   "codemirror_mode": {
    "name": "ipython",
    "version": 3
   },
   "file_extension": ".py",
   "mimetype": "text/x-python",
   "name": "python",
   "nbconvert_exporter": "python",
   "pygments_lexer": "ipython3",
   "version": "3.6.2"
  }
 },
 "nbformat": 4,
 "nbformat_minor": 2
}
