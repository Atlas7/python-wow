{
 "cells": [
  {
   "cell_type": "markdown",
   "metadata": {},
   "source": [
    "Use this notebook to play around with printing non-enlish characters. See also [this PEP 3131](https://www.python.org/dev/peps/pep-3131/). See also [this Stackoverflow](https://stackoverflow.com/questions/3547534/what-encoding-do-normal-python-strings-use) on Python 3.x encoding.\n",
    "\n",
    "**Contribution Welcome**: Feel free to experiment with similar and add to this notebook (append from to the bottom), and raise a Pull Request (PR). Make sure it works (by running the snippet code with `shift + Enter`).\n",
    "\n",
    "**Why create this notebook in the first place**: because we can. It could be fun. This notebook aims to give us an idea what's possible (and not possible) right now. It aims to inspire.\n",
    "\n",
    "**Use this notebook with caution - Even if we can do something it does not mean we should**. This notebook focuses on the exploration of what we can and cannot do, rather than the what we should and shouldn't do. Just because we can do things in a weird way it doesn't mean we should (and vice versa). When in doublt on the should and shouldn't, use the Python Enhancement Purprosal [PEP Guide](https://www.python.org/dev/peps/)\n",
    "\n",
    "Have fun. Don't take this too seriously. Always be curious and experiment."
   ]
  },
  {
   "cell_type": "markdown",
   "metadata": {},
   "source": [
    "# English Version - Print Names"
   ]
  },
  {
   "cell_type": "code",
   "execution_count": 1,
   "metadata": {
    "collapsed": true
   },
   "outputs": [],
   "source": [
    "name_list = ['small_ming', 'medium_ming', 'big_ming']"
   ]
  },
  {
   "cell_type": "code",
   "execution_count": 2,
   "metadata": {
    "scrolled": true
   },
   "outputs": [
    {
     "name": "stdout",
     "output_type": "stream",
     "text": [
      "small_ming\n",
      "medium_ming\n",
      "big_ming\n"
     ]
    }
   ],
   "source": [
    "for name in name_list:\n",
    "    print(name)"
   ]
  },
  {
   "cell_type": "markdown",
   "metadata": {},
   "source": [
    "# Chinse Version (Traditional) - 打印名單"
   ]
  },
  {
   "cell_type": "markdown",
   "metadata": {},
   "source": [
    "### English Identifier, Chinese Data"
   ]
  },
  {
   "cell_type": "code",
   "execution_count": 3,
   "metadata": {
    "collapsed": true
   },
   "outputs": [],
   "source": [
    "chinese_name_list = ['小明', '中明', '大明']"
   ]
  },
  {
   "cell_type": "code",
   "execution_count": 4,
   "metadata": {
    "scrolled": true
   },
   "outputs": [
    {
     "name": "stdout",
     "output_type": "stream",
     "text": [
      "小明\n",
      "中明\n",
      "大明\n"
     ]
    }
   ],
   "source": [
    "for chinese_name in chinese_name_list:\n",
    "    print(chinese_name)"
   ]
  },
  {
   "cell_type": "markdown",
   "metadata": {},
   "source": [
    "### Chinese Identifier, Chinese Data"
   ]
  },
  {
   "cell_type": "code",
   "execution_count": 5,
   "metadata": {
    "collapsed": true
   },
   "outputs": [],
   "source": [
    "名單 = ['小明', '中明', '大明']"
   ]
  },
  {
   "cell_type": "code",
   "execution_count": 6,
   "metadata": {
    "scrolled": true
   },
   "outputs": [
    {
     "name": "stdout",
     "output_type": "stream",
     "text": [
      "小明\n",
      "中明\n",
      "大明\n"
     ]
    }
   ],
   "source": [
    "for 名稱 in 名單:\n",
    "    print(名稱)"
   ]
  },
  {
   "cell_type": "markdown",
   "metadata": {},
   "source": [
    "# Emoji Version - Print Emoji"
   ]
  },
  {
   "cell_type": "markdown",
   "metadata": {},
   "source": [
    "copy and paste emoji at [http://getemoji.com/](http://getemoji.com/). Note that not all emoji works. Note: I try using an emoji for the identifiers (variables). But with no success. So I cheated for now and use the English `emoji_list` and `emoji` for now. If anyone know how to replace these English identifiers `emoji_list` and `emoji`, please do so and raise a Pull Request! (PR)"
   ]
  },
  {
   "cell_type": "markdown",
   "metadata": {},
   "source": [
    "### English Identifier, Emoji Data"
   ]
  },
  {
   "cell_type": "code",
   "execution_count": 7,
   "metadata": {
    "collapsed": true
   },
   "outputs": [],
   "source": [
    "emoji_list = ['😀', '😭', '👹']"
   ]
  },
  {
   "cell_type": "code",
   "execution_count": 8,
   "metadata": {
    "scrolled": false
   },
   "outputs": [
    {
     "name": "stdout",
     "output_type": "stream",
     "text": [
      "😀\n",
      "😭\n",
      "👹\n"
     ]
    }
   ],
   "source": [
    "for emoji in emoji_list:\n",
    "    print(emoji)"
   ]
  },
  {
   "cell_type": "markdown",
   "metadata": {},
   "source": [
    "### Emoji Identifier, Emoji Data"
   ]
  },
  {
   "cell_type": "markdown",
   "metadata": {},
   "source": [
    "Note quite sure how to do this yet..."
   ]
  },
  {
   "cell_type": "markdown",
   "metadata": {},
   "source": [
    "# Japanese Version"
   ]
  },
  {
   "cell_type": "markdown",
   "metadata": {
    "collapsed": true
   },
   "source": [
    "### English Identifier, Japanese Data"
   ]
  },
  {
   "cell_type": "code",
   "execution_count": 9,
   "metadata": {
    "collapsed": true
   },
   "outputs": [],
   "source": [
    "japanese_name_list = ['香川 真司', '本田 圭佑', '岡崎 慎司']"
   ]
  },
  {
   "cell_type": "code",
   "execution_count": 10,
   "metadata": {},
   "outputs": [
    {
     "name": "stdout",
     "output_type": "stream",
     "text": [
      "香川 真司\n",
      "本田 圭佑\n",
      "岡崎 慎司\n"
     ]
    }
   ],
   "source": [
    "for japanese_name in japanese_name_list:\n",
    "    print(japanese_name)"
   ]
  },
  {
   "cell_type": "markdown",
   "metadata": {
    "collapsed": true
   },
   "source": [
    "### Japanese Identifier, Japanese Data"
   ]
  },
  {
   "cell_type": "code",
   "execution_count": 11,
   "metadata": {
    "collapsed": true
   },
   "outputs": [],
   "source": [
    "名前リスト = ['香川 真司', '本田 圭佑', '岡崎 慎司']"
   ]
  },
  {
   "cell_type": "code",
   "execution_count": 12,
   "metadata": {},
   "outputs": [
    {
     "name": "stdout",
     "output_type": "stream",
     "text": [
      "香川 真司\n",
      "本田 圭佑\n",
      "岡崎 慎司\n"
     ]
    }
   ],
   "source": [
    "for 名前 in 名前リスト:\n",
    "    print(名前)"
   ]
  },
  {
   "cell_type": "markdown",
   "metadata": {},
   "source": [
    "### Bengali Version"
   ]
  },
  {
   "cell_type": "code",
   "execution_count": 1,
   "metadata": {},
   "outputs": [],
   "source": [
    "সংগ্রহ = ['রাম', 'যদু', 'মধু']"
   ]
  },
  {
   "cell_type": "code",
   "execution_count": 2,
   "metadata": {},
   "outputs": [
    {
     "name": "stdout",
     "output_type": "stream",
     "text": [
      "রাম\n",
      "যদু\n",
      "মধু\n"
     ]
    }
   ],
   "source": [
    "for নাম in সংগ্রহ:\n",
    "    print(নাম)  "
   ]
  },
  {
   "cell_type": "markdown",
   "metadata": {
    "collapsed": true
   },
   "source": [
    "# Add your non-English versions below this line"
   ]
  },
  {
   "cell_type": "code",
   "execution_count": null,
   "metadata": {
    "collapsed": true
   },
   "outputs": [],
   "source": []
  },
  {
   "cell_type": "code",
   "execution_count": null,
   "metadata": {},
   "outputs": [],
   "source": []
  },
  {
   "cell_type": "code",
   "execution_count": null,
   "metadata": {},
   "outputs": [],
   "source": []
  }
 ],
 "metadata": {
  "kernelspec": {
   "display_name": "Python 3",
   "language": "python",
   "name": "python3"
  },
  "language_info": {
   "codemirror_mode": {
    "name": "ipython",
    "version": 3
   },
   "file_extension": ".py",
   "mimetype": "text/x-python",
   "name": "python",
   "nbconvert_exporter": "python",
   "pygments_lexer": "ipython3",
   "version": "3.5.2"
  }
 },
 "nbformat": 4,
 "nbformat_minor": 2
}
